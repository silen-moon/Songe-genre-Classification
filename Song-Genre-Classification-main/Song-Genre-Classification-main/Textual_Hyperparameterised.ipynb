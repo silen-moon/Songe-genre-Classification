{
  "nbformat": 4,
  "nbformat_minor": 0,
  "metadata": {
    "colab": {
      "name": "Textual Hyperparameterised.ipynb",
      "provenance": [],
      "authorship_tag": "ABX9TyMj5E9UZUmwREjo5kswJA0h",
      "include_colab_link": true
    },
    "kernelspec": {
      "name": "python3",
      "display_name": "Python 3"
    },
    "language_info": {
      "name": "python"
    }
  },
  "cells": [
    {
      "cell_type": "markdown",
      "metadata": {
        "id": "view-in-github",
        "colab_type": "text"
      },
      "source": [
        "<a href=\"https://colab.research.google.com/github/Gupta-Vaishali/Song-Genre-Classification/blob/main/Textual_Hyperparameterised.ipynb\" target=\"_parent\"><img src=\"https://colab.research.google.com/assets/colab-badge.svg\" alt=\"Open In Colab\"/></a>"
      ]
    },
    {
      "cell_type": "code",
      "metadata": {
        "id": "1GVBvjg6Tod-"
      },
      "source": [
        "#Textual static features with test train split = 0.30 and with standard scaling"
      ],
      "execution_count": null,
      "outputs": []
    },
    {
      "cell_type": "code",
      "metadata": {
        "id": "vqM4Q-JMiPgj"
      },
      "source": [
        "# Fitting Decision Tree Classification to the Training set\n",
        "from sklearn.tree import DecisionTreeClassifier\n",
        "classifier = DecisionTreeClassifier(criterion = 'gini',random_state = 0,max_depth=45,class_weight='balanced',max_leaf_nodes=40000)#max_depth=100,80,50"
      ],
      "execution_count": null,
      "outputs": []
    },
    {
      "cell_type": "code",
      "metadata": {
        "colab": {
          "base_uri": "https://localhost:8080/"
        },
        "id": "1erAb5apOcAX",
        "outputId": "e65ba44a-e0eb-497a-a564-4da68d295da5"
      },
      "source": [
        "classifier.fit(x_train, y_train)"
      ],
      "execution_count": null,
      "outputs": [
        {
          "output_type": "execute_result",
          "data": {
            "text/plain": [
              "DecisionTreeClassifier(ccp_alpha=0.0, class_weight='balanced', criterion='gini',\n",
              "                       max_depth=45, max_features=None, max_leaf_nodes=40000,\n",
              "                       min_impurity_decrease=0.0, min_impurity_split=None,\n",
              "                       min_samples_leaf=1, min_samples_split=2,\n",
              "                       min_weight_fraction_leaf=0.0, presort='deprecated',\n",
              "                       random_state=0, splitter='best')"
            ]
          },
          "metadata": {
            "tags": []
          },
          "execution_count": 288
        }
      ]
    },
    {
      "cell_type": "code",
      "metadata": {
        "id": "kluymemGOcAh"
      },
      "source": [
        "# Predicting the Test set results\n",
        "y_pred = classifier.predict(x_test)"
      ],
      "execution_count": null,
      "outputs": []
    },
    {
      "cell_type": "code",
      "metadata": {
        "colab": {
          "base_uri": "https://localhost:8080/",
          "height": 421
        },
        "id": "Mu81N4PYOcAj",
        "outputId": "9820c4f0-1108-46a1-9f15-2a179fd5da94"
      },
      "source": [
        "# Making the Confusion Matrix\n",
        "labels = classifier.classes_\n",
        "cm = pd.DataFrame(metrics.confusion_matrix(y_test, y_pred), columns=labels, index=labels)\n",
        "cm.index.name = 'True labels'\n",
        "cm"
      ],
      "execution_count": null,
      "outputs": [
        {
          "output_type": "execute_result",
          "data": {
            "text/html": [
              "<div>\n",
              "<style scoped>\n",
              "    .dataframe tbody tr th:only-of-type {\n",
              "        vertical-align: middle;\n",
              "    }\n",
              "\n",
              "    .dataframe tbody tr th {\n",
              "        vertical-align: top;\n",
              "    }\n",
              "\n",
              "    .dataframe thead th {\n",
              "        text-align: right;\n",
              "    }\n",
              "</style>\n",
              "<table border=\"1\" class=\"dataframe\">\n",
              "  <thead>\n",
              "    <tr style=\"text-align: right;\">\n",
              "      <th></th>\n",
              "      <th>Country</th>\n",
              "      <th>Electronic</th>\n",
              "      <th>Folk</th>\n",
              "      <th>Hip-Hop</th>\n",
              "      <th>Indie</th>\n",
              "      <th>Jazz</th>\n",
              "      <th>Metal</th>\n",
              "      <th>Other</th>\n",
              "      <th>Pop</th>\n",
              "      <th>R&amp;B</th>\n",
              "      <th>Rock</th>\n",
              "    </tr>\n",
              "    <tr>\n",
              "      <th>True labels</th>\n",
              "      <th></th>\n",
              "      <th></th>\n",
              "      <th></th>\n",
              "      <th></th>\n",
              "      <th></th>\n",
              "      <th></th>\n",
              "      <th></th>\n",
              "      <th></th>\n",
              "      <th></th>\n",
              "      <th></th>\n",
              "      <th></th>\n",
              "    </tr>\n",
              "  </thead>\n",
              "  <tbody>\n",
              "    <tr>\n",
              "      <th>Country</th>\n",
              "      <td>3756</td>\n",
              "      <td>22</td>\n",
              "      <td>9</td>\n",
              "      <td>72</td>\n",
              "      <td>11</td>\n",
              "      <td>23</td>\n",
              "      <td>49</td>\n",
              "      <td>33</td>\n",
              "      <td>96</td>\n",
              "      <td>4</td>\n",
              "      <td>282</td>\n",
              "    </tr>\n",
              "    <tr>\n",
              "      <th>Electronic</th>\n",
              "      <td>25</td>\n",
              "      <td>1337</td>\n",
              "      <td>7</td>\n",
              "      <td>99</td>\n",
              "      <td>8</td>\n",
              "      <td>24</td>\n",
              "      <td>121</td>\n",
              "      <td>33</td>\n",
              "      <td>135</td>\n",
              "      <td>5</td>\n",
              "      <td>343</td>\n",
              "    </tr>\n",
              "    <tr>\n",
              "      <th>Folk</th>\n",
              "      <td>5</td>\n",
              "      <td>10</td>\n",
              "      <td>343</td>\n",
              "      <td>18</td>\n",
              "      <td>10</td>\n",
              "      <td>3</td>\n",
              "      <td>24</td>\n",
              "      <td>8</td>\n",
              "      <td>24</td>\n",
              "      <td>1</td>\n",
              "      <td>75</td>\n",
              "    </tr>\n",
              "    <tr>\n",
              "      <th>Hip-Hop</th>\n",
              "      <td>83</td>\n",
              "      <td>96</td>\n",
              "      <td>15</td>\n",
              "      <td>5368</td>\n",
              "      <td>19</td>\n",
              "      <td>33</td>\n",
              "      <td>156</td>\n",
              "      <td>98</td>\n",
              "      <td>306</td>\n",
              "      <td>20</td>\n",
              "      <td>648</td>\n",
              "    </tr>\n",
              "    <tr>\n",
              "      <th>Indie</th>\n",
              "      <td>12</td>\n",
              "      <td>8</td>\n",
              "      <td>8</td>\n",
              "      <td>15</td>\n",
              "      <td>590</td>\n",
              "      <td>8</td>\n",
              "      <td>26</td>\n",
              "      <td>19</td>\n",
              "      <td>34</td>\n",
              "      <td>1</td>\n",
              "      <td>140</td>\n",
              "    </tr>\n",
              "    <tr>\n",
              "      <th>Jazz</th>\n",
              "      <td>34</td>\n",
              "      <td>17</td>\n",
              "      <td>1</td>\n",
              "      <td>32</td>\n",
              "      <td>7</td>\n",
              "      <td>1812</td>\n",
              "      <td>55</td>\n",
              "      <td>21</td>\n",
              "      <td>80</td>\n",
              "      <td>6</td>\n",
              "      <td>161</td>\n",
              "    </tr>\n",
              "    <tr>\n",
              "      <th>Metal</th>\n",
              "      <td>68</td>\n",
              "      <td>79</td>\n",
              "      <td>34</td>\n",
              "      <td>195</td>\n",
              "      <td>34</td>\n",
              "      <td>38</td>\n",
              "      <td>4477</td>\n",
              "      <td>61</td>\n",
              "      <td>242</td>\n",
              "      <td>18</td>\n",
              "      <td>1046</td>\n",
              "    </tr>\n",
              "    <tr>\n",
              "      <th>Other</th>\n",
              "      <td>26</td>\n",
              "      <td>33</td>\n",
              "      <td>9</td>\n",
              "      <td>97</td>\n",
              "      <td>13</td>\n",
              "      <td>33</td>\n",
              "      <td>63</td>\n",
              "      <td>482</td>\n",
              "      <td>119</td>\n",
              "      <td>3</td>\n",
              "      <td>262</td>\n",
              "    </tr>\n",
              "    <tr>\n",
              "      <th>Pop</th>\n",
              "      <td>88</td>\n",
              "      <td>141</td>\n",
              "      <td>24</td>\n",
              "      <td>296</td>\n",
              "      <td>41</td>\n",
              "      <td>62</td>\n",
              "      <td>257</td>\n",
              "      <td>131</td>\n",
              "      <td>8068</td>\n",
              "      <td>31</td>\n",
              "      <td>1104</td>\n",
              "    </tr>\n",
              "    <tr>\n",
              "      <th>R&amp;B</th>\n",
              "      <td>10</td>\n",
              "      <td>10</td>\n",
              "      <td>2</td>\n",
              "      <td>20</td>\n",
              "      <td>0</td>\n",
              "      <td>6</td>\n",
              "      <td>16</td>\n",
              "      <td>7</td>\n",
              "      <td>28</td>\n",
              "      <td>797</td>\n",
              "      <td>71</td>\n",
              "    </tr>\n",
              "    <tr>\n",
              "      <th>Rock</th>\n",
              "      <td>228</td>\n",
              "      <td>357</td>\n",
              "      <td>64</td>\n",
              "      <td>632</td>\n",
              "      <td>134</td>\n",
              "      <td>164</td>\n",
              "      <td>960</td>\n",
              "      <td>251</td>\n",
              "      <td>1059</td>\n",
              "      <td>59</td>\n",
              "      <td>25969</td>\n",
              "    </tr>\n",
              "  </tbody>\n",
              "</table>\n",
              "</div>"
            ],
            "text/plain": [
              "             Country  Electronic  Folk  Hip-Hop  ...  Other   Pop  R&B   Rock\n",
              "True labels                                      ...                         \n",
              "Country         3756          22     9       72  ...     33    96    4    282\n",
              "Electronic        25        1337     7       99  ...     33   135    5    343\n",
              "Folk               5          10   343       18  ...      8    24    1     75\n",
              "Hip-Hop           83          96    15     5368  ...     98   306   20    648\n",
              "Indie             12           8     8       15  ...     19    34    1    140\n",
              "Jazz              34          17     1       32  ...     21    80    6    161\n",
              "Metal             68          79    34      195  ...     61   242   18   1046\n",
              "Other             26          33     9       97  ...    482   119    3    262\n",
              "Pop               88         141    24      296  ...    131  8068   31   1104\n",
              "R&B               10          10     2       20  ...      7    28  797     71\n",
              "Rock             228         357    64      632  ...    251  1059   59  25969\n",
              "\n",
              "[11 rows x 11 columns]"
            ]
          },
          "metadata": {
            "tags": []
          },
          "execution_count": 290
        }
      ]
    },
    {
      "cell_type": "code",
      "metadata": {
        "colab": {
          "base_uri": "https://localhost:8080/"
        },
        "id": "x7UT_8ULOcAk",
        "outputId": "000c13b8-0233-4e92-ffba-e498f0f92862"
      },
      "source": [
        "print(\"Accuracy:\",metrics.accuracy_score(y_test, y_pred))\n",
        "print('F1score of DT classifier on test set: {:.6f}'.format(metrics.f1_score(y_test, y_pred,average='weighted')))"
      ],
      "execution_count": null,
      "outputs": [
        {
          "output_type": "stream",
          "text": [
            "Accuracy: 0.8096023708048822\n",
            "F1score of SGD classifier on test set: 0.809425\n"
          ],
          "name": "stdout"
        }
      ]
    },
    {
      "cell_type": "code",
      "metadata": {
        "colab": {
          "base_uri": "https://localhost:8080/"
        },
        "id": "moqBerNCOcAl",
        "outputId": "45ce0485-4d68-4003-fa32-0448e75e8926"
      },
      "source": [
        "print(metrics.classification_report(y_test, y_pred, target_names=classifier.classes_))"
      ],
      "execution_count": null,
      "outputs": [
        {
          "output_type": "stream",
          "text": [
            "              precision    recall  f1-score   support\n",
            "\n",
            "     Country       0.87      0.86      0.86      4357\n",
            "  Electronic       0.63      0.63      0.63      2137\n",
            "        Folk       0.66      0.66      0.66       521\n",
            "     Hip-Hop       0.78      0.78      0.78      6842\n",
            "       Indie       0.68      0.69      0.68       861\n",
            "        Jazz       0.82      0.81      0.82      2226\n",
            "       Metal       0.72      0.71      0.72      6292\n",
            "       Other       0.42      0.42      0.42      1140\n",
            "         Pop       0.79      0.79      0.79     10243\n",
            "         R&B       0.84      0.82      0.83       967\n",
            "        Rock       0.86      0.87      0.87     29877\n",
            "\n",
            "    accuracy                           0.81     65463\n",
            "   macro avg       0.74      0.73      0.73     65463\n",
            "weighted avg       0.81      0.81      0.81     65463\n",
            "\n"
          ],
          "name": "stdout"
        }
      ]
    }
  ]
}
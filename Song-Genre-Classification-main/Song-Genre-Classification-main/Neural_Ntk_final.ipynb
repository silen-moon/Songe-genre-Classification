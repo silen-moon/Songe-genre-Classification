{
  "nbformat": 4,
  "nbformat_minor": 0,
  "metadata": {
    "colab": {
      "name": "Neural Ntk final.ipynb",
      "provenance": [],
      "collapsed_sections": [],
      "mount_file_id": "1mXWEfMkYNcWU_B_mUioTSGoqZjf-DXmd",
      "authorship_tag": "ABX9TyPFFOtreBipcUqEJ5zgJJGg",
      "include_colab_link": true
    },
    "kernelspec": {
      "name": "python3",
      "display_name": "Python 3"
    },
    "language_info": {
      "name": "python"
    }
  },
  "cells": [
    {
      "cell_type": "markdown",
      "metadata": {
        "id": "view-in-github",
        "colab_type": "text"
      },
      "source": [
        "<a href=\"https://colab.research.google.com/github/Gupta-Vaishali/Song-Genre-Classification/blob/main/Neural_Ntk_final.ipynb\" target=\"_parent\"><img src=\"https://colab.research.google.com/assets/colab-badge.svg\" alt=\"Open In Colab\"/></a>"
      ]
    },
    {
      "cell_type": "code",
      "metadata": {
        "id": "BFjKRztcIsvQ"
      },
      "source": [
        "# 1 Importing required modules\n",
        "import numpy as np\n",
        "import pandas as pd\n",
        "import seaborn as sns\n",
        "import matplotlib.pyplot as plt"
      ],
      "execution_count": null,
      "outputs": []
    },
    {
      "cell_type": "code",
      "metadata": {
        "colab": {
          "base_uri": "https://localhost:8080/",
          "height": 598
        },
        "id": "hEW9wKDcI7Ln",
        "outputId": "3049b8b8-b31f-4797-f82c-062df281bd61"
      },
      "source": [
        "# 2 Loading csv into df\n",
        "df=pd.read_csv(\"/content/drive/MyDrive/sample_df.csv\")   \n",
        "df.head()"
      ],
      "execution_count": null,
      "outputs": [
        {
          "output_type": "execute_result",
          "data": {
            "text/html": [
              "<div>\n",
              "<style scoped>\n",
              "    .dataframe tbody tr th:only-of-type {\n",
              "        vertical-align: middle;\n",
              "    }\n",
              "\n",
              "    .dataframe tbody tr th {\n",
              "        vertical-align: top;\n",
              "    }\n",
              "\n",
              "    .dataframe thead th {\n",
              "        text-align: right;\n",
              "    }\n",
              "</style>\n",
              "<table border=\"1\" class=\"dataframe\">\n",
              "  <thead>\n",
              "    <tr style=\"text-align: right;\">\n",
              "      <th></th>\n",
              "      <th>Unnamed: 0</th>\n",
              "      <th>song</th>\n",
              "      <th>year</th>\n",
              "      <th>artist</th>\n",
              "      <th>genre</th>\n",
              "      <th>lyrics</th>\n",
              "      <th>token_lyrics</th>\n",
              "      <th>stemmed_tokenized_lyrics</th>\n",
              "      <th>song_title_tokenised</th>\n",
              "      <th>lemmatized_song_titles</th>\n",
              "      <th>lemmatized_lyrics</th>\n",
              "      <th>uniquewords</th>\n",
              "      <th>sentence_count</th>\n",
              "      <th>char_count</th>\n",
              "      <th>unique words</th>\n",
              "      <th>no_of_contractions</th>\n",
              "      <th>expanded_lyrics</th>\n",
              "    </tr>\n",
              "  </thead>\n",
              "  <tbody>\n",
              "    <tr>\n",
              "      <th>0</th>\n",
              "      <td>0</td>\n",
              "      <td>ego-remix</td>\n",
              "      <td>2009</td>\n",
              "      <td>beyonce-knowles</td>\n",
              "      <td>Pop</td>\n",
              "      <td>oh baby how you doing you know i'm gonna cut r...</td>\n",
              "      <td>['oh', 'baby', 'know', \"'m\", 'gon', 'na', 'cut...</td>\n",
              "      <td>['oh', 'babi', 'know', \"'m\", 'gon', 'na', 'cut...</td>\n",
              "      <td>['ego', 'remix']</td>\n",
              "      <td>ego remix</td>\n",
              "      <td>oh baby know be gon na cut right chase women m...</td>\n",
              "      <td>['oh', 'baby', 'know', 'be', 'gon', 'na', 'cut...</td>\n",
              "      <td>229</td>\n",
              "      <td>864</td>\n",
              "      <td>229</td>\n",
              "      <td>0</td>\n",
              "      <td>oh baby know be gon na cut right chase women m...</td>\n",
              "    </tr>\n",
              "    <tr>\n",
              "      <th>1</th>\n",
              "      <td>1</td>\n",
              "      <td>then-tell-me</td>\n",
              "      <td>2009</td>\n",
              "      <td>beyonce-knowles</td>\n",
              "      <td>Pop</td>\n",
              "      <td>playin everything so easy it's like you seem s...</td>\n",
              "      <td>['playin', 'everything', 'easy', \"'s\", 'like',...</td>\n",
              "      <td>['playin', 'everyth', 'easi', \"'s\", 'like', 's...</td>\n",
              "      <td>['then', 'tell', 'me']</td>\n",
              "      <td>then tell me</td>\n",
              "      <td>playin everythe easy be like seem sure still w...</td>\n",
              "      <td>['playin', 'everythe', 'easy', 'be', 'like', '...</td>\n",
              "      <td>129</td>\n",
              "      <td>548</td>\n",
              "      <td>129</td>\n",
              "      <td>3</td>\n",
              "      <td>playin everythe easy be like seem sure still w...</td>\n",
              "    </tr>\n",
              "    <tr>\n",
              "      <th>2</th>\n",
              "      <td>2</td>\n",
              "      <td>honesty</td>\n",
              "      <td>2009</td>\n",
              "      <td>beyonce-knowles</td>\n",
              "      <td>Pop</td>\n",
              "      <td>if you search for tenderness it isn't hard to ...</td>\n",
              "      <td>['search', 'tenderness', \"n't\", 'hard', 'find'...</td>\n",
              "      <td>['search', 'tender', \"n't\", 'hard', 'find', 'l...</td>\n",
              "      <td>['honesty']</td>\n",
              "      <td>honesty</td>\n",
              "      <td>search tendernes be hard find love need live l...</td>\n",
              "      <td>['search', 'tendernes', 'be', 'hard', 'find', ...</td>\n",
              "      <td>82</td>\n",
              "      <td>400</td>\n",
              "      <td>82</td>\n",
              "      <td>0</td>\n",
              "      <td>search tendernes be hard find love need live l...</td>\n",
              "    </tr>\n",
              "    <tr>\n",
              "      <th>3</th>\n",
              "      <td>3</td>\n",
              "      <td>you-are-my-rock</td>\n",
              "      <td>2009</td>\n",
              "      <td>beyonce-knowles</td>\n",
              "      <td>Pop</td>\n",
              "      <td>oh oh oh i oh oh oh i if i wrote a book about ...</td>\n",
              "      <td>['oh', 'oh', 'oh', 'oh', 'oh', 'oh', 'wrote', ...</td>\n",
              "      <td>['oh', 'oh', 'oh', 'oh', 'oh', 'oh', 'wrote', ...</td>\n",
              "      <td>['you', 'are', 'my', 'rock']</td>\n",
              "      <td>you be my rock</td>\n",
              "      <td>oh oh oh oh oh oh write book stand title book ...</td>\n",
              "      <td>['oh', 'write', 'book', 'stand', 'title', 'wou...</td>\n",
              "      <td>264</td>\n",
              "      <td>980</td>\n",
              "      <td>264</td>\n",
              "      <td>0</td>\n",
              "      <td>oh oh oh oh oh oh write book stand title book ...</td>\n",
              "    </tr>\n",
              "    <tr>\n",
              "      <th>4</th>\n",
              "      <td>4</td>\n",
              "      <td>black-culture</td>\n",
              "      <td>2009</td>\n",
              "      <td>beyonce-knowles</td>\n",
              "      <td>Pop</td>\n",
              "      <td>party the people the people the party it's pop...</td>\n",
              "      <td>['party', 'people', 'people', 'party', \"'s\", '...</td>\n",
              "      <td>['parti', 'peopl', 'peopl', 'parti', \"'s\", 'po...</td>\n",
              "      <td>['black', 'culture']</td>\n",
              "      <td>black culture</td>\n",
              "      <td>party people people party be pop sit around se...</td>\n",
              "      <td>['party', 'people', 'be', 'pop', 'sit', 'aroun...</td>\n",
              "      <td>189</td>\n",
              "      <td>757</td>\n",
              "      <td>189</td>\n",
              "      <td>0</td>\n",
              "      <td>party people people party be pop sit around se...</td>\n",
              "    </tr>\n",
              "  </tbody>\n",
              "</table>\n",
              "</div>"
            ],
            "text/plain": [
              "   Unnamed: 0  ...                                    expanded_lyrics\n",
              "0           0  ...  oh baby know be gon na cut right chase women m...\n",
              "1           1  ...  playin everythe easy be like seem sure still w...\n",
              "2           2  ...  search tendernes be hard find love need live l...\n",
              "3           3  ...  oh oh oh oh oh oh write book stand title book ...\n",
              "4           4  ...  party people people party be pop sit around se...\n",
              "\n",
              "[5 rows x 17 columns]"
            ]
          },
          "metadata": {
            "tags": []
          },
          "execution_count": 2
        }
      ]
    },
    {
      "cell_type": "code",
      "metadata": {
        "id": "WPa691N2JEHC"
      },
      "source": [
        "genre_code={\"Pop\":0,\"Hip-Hop\":1,\"Rock\":2,\"Indie\":3,\"Metal\":4,\"Other\":5,\"Country\":6,\"Folk\":7,\"Jazz\":8,\"R&B\":9,\"Electronic\":10}\n",
        "for i in df.index:\n",
        "  df.loc[i,'genre_code'] = genre_code[df.loc[i,'genre']]\n",
        "\n",
        "# 4 - extracting the required columns\n",
        "df['expanded_lyrics'].fillna(value=' ',inplace =True)\n",
        "X = pd.DataFrame(df['expanded_lyrics'])\n",
        "Y = pd.DataFrame(df['genre_code'])\n",
        "\n",
        "# splitting the data in train and test data\n",
        "from sklearn.model_selection import train_test_split\n",
        "X_train, X_test, Y_train, Y_test = train_test_split(X, Y, test_size=0.15, random_state=42)"
      ],
      "execution_count": null,
      "outputs": []
    },
    {
      "cell_type": "code",
      "metadata": {
        "colab": {
          "base_uri": "https://localhost:8080/"
        },
        "id": "-sIdWxj8aOnT",
        "outputId": "ec52e603-7988-43df-ff2b-6eac4d384467"
      },
      "source": [
        "!pip install --upgrade gensim"
      ],
      "execution_count": null,
      "outputs": [
        {
          "output_type": "stream",
          "text": [
            "Requirement already up-to-date: gensim in /usr/local/lib/python3.7/dist-packages (4.0.1)\n",
            "Requirement already satisfied, skipping upgrade: scipy>=0.18.1 in /usr/local/lib/python3.7/dist-packages (from gensim) (1.4.1)\n",
            "Requirement already satisfied, skipping upgrade: smart-open>=1.8.1 in /usr/local/lib/python3.7/dist-packages (from gensim) (5.0.0)\n",
            "Requirement already satisfied, skipping upgrade: numpy>=1.11.3 in /usr/local/lib/python3.7/dist-packages (from gensim) (1.19.5)\n"
          ],
          "name": "stdout"
        }
      ]
    },
    {
      "cell_type": "code",
      "metadata": {
        "id": "IlKthydlJJ9Z"
      },
      "source": [
        "import gensim\n",
        "from gensim.test.utils import common_texts\n",
        "from gensim.models.doc2vec import Doc2Vec, TaggedDocument\n",
        "import gensim.models.doc2vec\n",
        "from sklearn.metrics import accuracy_score, f1_score\n",
        "from sklearn.model_selection import train_test_split\n",
        "from sklearn.linear_model import LogisticRegression\n",
        "from sklearn import utils\n",
        "import csv\n",
        "from tqdm import tqdm\n",
        "import multiprocessing"
      ],
      "execution_count": null,
      "outputs": []
    },
    {
      "cell_type": "code",
      "metadata": {
        "colab": {
          "base_uri": "https://localhost:8080/"
        },
        "id": "NWwGDZ_VJQun",
        "outputId": "95b6886a-7564-479f-d5f6-fe6307d7d823"
      },
      "source": [
        "tqdm.pandas(desc=\"progress-bar\")\n",
        "# Initializing the variables\n",
        "train_documents = []\n",
        "test_documents = []\n",
        "i = 0\n",
        "# Associating the tags(labels) with numbers\n",
        "tags_index = {}\n",
        "j = 0\n",
        "for i in df['genre_code'].unique() :\n",
        "  tags_index[i] = j\n",
        "  j+=1\n",
        "#Reading the X_Train\n",
        "for i in X_train.index :\n",
        "            train_documents.append( TaggedDocument(words=str(X_train.loc[i,'expanded_lyrics']).split(), tags=[tags_index.get(Y_train.loc[i,'genre_code'])] ))\n",
        "\n",
        "for i in X_test.index :\n",
        "            test_documents.append( TaggedDocument(words=str(X_test.loc[i,'expanded_lyrics']).split(), tags=[tags_index.get(Y_test.loc[i,'genre_code'])] ))\n",
        " #tags=[tags_index.get(row[3], 8)]))\n",
        "print(train_documents[0])\n",
        "print(test_documents[0])"
      ],
      "execution_count": null,
      "outputs": [
        {
          "output_type": "stream",
          "text": [
            "/usr/local/lib/python3.7/dist-packages/tqdm/std.py:658: FutureWarning: The Panel class is removed from pandas. Accessing it from the top-level namespace will also be removed in the next version\n",
            "  from pandas import Panel\n"
          ],
          "name": "stderr"
        },
        {
          "output_type": "stream",
          "text": [
            "TaggedDocument(['cold', 'blue', 'wave', 'cold', 'dead', 'sky', 'see', 'sea', 'need', 'cold', 'blue', 'wave', 'cold', 'blue', 'mind', 'hear', 'talk', 'cold', 'dead', 'mind', 'see', 'sea', 'every', 'dream', 'want', 'stay', 'every', 'night', 'try', 'find', 'way'], [2])\n",
            "TaggedDocument(['many', 'time', 'have', 'dream', 'see', 'many', 'day', 'without', 'sun', 'because', 'know', 'shine', 'day', 'many', 'way', 'miss', 'sun', 'wait', 'california', 'get', 'ta', 'see', 'way', 'many', 'time', 'have', 'heart', 'ache', 'none', 'time', 'feel', 'far', 'go', 'be', 'worthwhile', 'get', 'back', 'belong', 'local', 'mountain', 'love', 'style', 'every', 'day', 'like', 'song', 'wait', 'california', 'get', 'ta', 'see', 'way', 'need', 'kind', 'life', 'give', 'make', 'love', 'feel', 'true', 'wait', 'california', 'get', 'ta', 'see', 'way', 'need', 'kind', 'life', 'give', 'make', 'love', 'feel', 'true'], [2])\n"
          ],
          "name": "stdout"
        }
      ]
    },
    {
      "cell_type": "code",
      "metadata": {
        "id": "5FjHjJa0S8Py"
      },
      "source": [
        "model_dbow = Doc2Vec.load('/content/drive/MyDrive/SONGGenreModel (1).d2v')"
      ],
      "execution_count": null,
      "outputs": []
    },
    {
      "cell_type": "code",
      "metadata": {
        "id": "mBNLye0yJ5GO"
      },
      "source": [
        "def vector_for_learning(model, input_docs):\n",
        "    sents = input_docs\n",
        "    targets, feature_vectors = zip(*[(doc.tags[0], model.infer_vector(doc.words)) for doc in sents]) #, steps=20\n",
        "    return targets, feature_vectors"
      ],
      "execution_count": null,
      "outputs": []
    },
    {
      "cell_type": "code",
      "metadata": {
        "id": "A20II9mpjW8i"
      },
      "source": [
        "y_train, X_train = vector_for_learning(model_dbow, train_documents)\n",
        "y_test, X_test = vector_for_learning(model_dbow, test_documents)"
      ],
      "execution_count": null,
      "outputs": []
    },
    {
      "cell_type": "code",
      "metadata": {
        "id": "k61k4WZqJ_iS"
      },
      "source": [
        "#for \n",
        "tags_index2 = {}\n",
        "for i in tags_index :\n",
        "  tags_index2[tags_index[i]] = i\n",
        "training_padded = np.array(X_train)\n",
        "training_labels = np.array(y_train)\n",
        "testing_padded = np.array(X_test)\n",
        "testing_labels = np.array(y_test)\n",
        "from keras.utils import np_utils\n",
        "testing_labels_en = np_utils.to_categorical(testing_labels)\n",
        "training_labels_en = np_utils.to_categorical(training_labels)"
      ],
      "execution_count": null,
      "outputs": []
    },
    {
      "cell_type": "code",
      "metadata": {
        "id": "iSTU5H6adsSq"
      },
      "source": [
        "# epochs = 100 (great fit) now 200 (not so great)\n",
        "from keras import models\n",
        "from keras import layers\n",
        "model2 = models.Sequential()\n",
        "model2.add(layers.Dense(96,input_dim= 300, activation='sigmoid')) #300,300 -> 100,300\n",
        "model2.add(layers.Dense(128,activation='sigmoid'))\n",
        "model2.add(layers.Dense(11, activation='softmax'))\n",
        "from keras.optimizers import SGD\n",
        "opt = SGD(learning_rate=0.002) #dont -> 0.001, 0.01"
      ],
      "execution_count": null,
      "outputs": []
    },
    {
      "cell_type": "code",
      "metadata": {
        "id": "ZVUyFgQXdsS5"
      },
      "source": [
        "model2.compile(loss='categorical_crossentropy', optimizer=opt, metrics=['categorical_accuracy'])"
      ],
      "execution_count": null,
      "outputs": []
    },
    {
      "cell_type": "code",
      "metadata": {
        "colab": {
          "base_uri": "https://localhost:8080/"
        },
        "id": "tuRY7VCJdsS6",
        "outputId": "ef924d61-2753-403d-9c35-881f5d6eb8d7"
      },
      "source": [
        "# start training\n",
        "H2 = model2.fit(training_padded,training_labels_en, epochs=100,validation_split=0.3 ,batch_size=10, verbose=1)"
      ],
      "execution_count": null,
      "outputs": [
        {
          "output_type": "stream",
          "text": [
            "Epoch 1/100\n",
            "12984/12984 [==============================] - 38s 2ms/step - loss: 1.7596 - categorical_accuracy: 0.4511 - val_loss: 1.7136 - val_categorical_accuracy: 0.4574\n",
            "Epoch 2/100\n",
            "12984/12984 [==============================] - 23s 2ms/step - loss: 1.6936 - categorical_accuracy: 0.4588 - val_loss: 1.6214 - val_categorical_accuracy: 0.5001\n",
            "Epoch 3/100\n",
            "12984/12984 [==============================] - 23s 2ms/step - loss: 1.5865 - categorical_accuracy: 0.5110 - val_loss: 1.5050 - val_categorical_accuracy: 0.5270\n",
            "Epoch 4/100\n",
            "12984/12984 [==============================] - 23s 2ms/step - loss: 1.4779 - categorical_accuracy: 0.5336 - val_loss: 1.4285 - val_categorical_accuracy: 0.5480\n",
            "Epoch 5/100\n",
            "12984/12984 [==============================] - 29s 2ms/step - loss: 1.4102 - categorical_accuracy: 0.5600 - val_loss: 1.3785 - val_categorical_accuracy: 0.5743\n",
            "Epoch 6/100\n",
            "12984/12984 [==============================] - 23s 2ms/step - loss: 1.3671 - categorical_accuracy: 0.5765 - val_loss: 1.3481 - val_categorical_accuracy: 0.5799\n",
            "Epoch 7/100\n",
            "12984/12984 [==============================] - 23s 2ms/step - loss: 1.3367 - categorical_accuracy: 0.5859 - val_loss: 1.3213 - val_categorical_accuracy: 0.5874\n",
            "Epoch 8/100\n",
            "12984/12984 [==============================] - 23s 2ms/step - loss: 1.3172 - categorical_accuracy: 0.5892 - val_loss: 1.2997 - val_categorical_accuracy: 0.5945\n",
            "Epoch 9/100\n",
            "12984/12984 [==============================] - 23s 2ms/step - loss: 1.2911 - categorical_accuracy: 0.5971 - val_loss: 1.2830 - val_categorical_accuracy: 0.5942\n",
            "Epoch 10/100\n",
            "12984/12984 [==============================] - 23s 2ms/step - loss: 1.2703 - categorical_accuracy: 0.6005 - val_loss: 1.2647 - val_categorical_accuracy: 0.6019\n",
            "Epoch 11/100\n",
            "12984/12984 [==============================] - 23s 2ms/step - loss: 1.2528 - categorical_accuracy: 0.6045 - val_loss: 1.2497 - val_categorical_accuracy: 0.6054\n",
            "Epoch 12/100\n",
            "12984/12984 [==============================] - 23s 2ms/step - loss: 1.2465 - categorical_accuracy: 0.6083 - val_loss: 1.2414 - val_categorical_accuracy: 0.6042\n",
            "Epoch 13/100\n",
            "12984/12984 [==============================] - 23s 2ms/step - loss: 1.2232 - categorical_accuracy: 0.6127 - val_loss: 1.2296 - val_categorical_accuracy: 0.6104\n",
            "Epoch 14/100\n",
            "12984/12984 [==============================] - 23s 2ms/step - loss: 1.2259 - categorical_accuracy: 0.6108 - val_loss: 1.2211 - val_categorical_accuracy: 0.6133\n",
            "Epoch 15/100\n",
            "12984/12984 [==============================] - 23s 2ms/step - loss: 1.2121 - categorical_accuracy: 0.6164 - val_loss: 1.2187 - val_categorical_accuracy: 0.6121\n",
            "Epoch 16/100\n",
            "12984/12984 [==============================] - 23s 2ms/step - loss: 1.2104 - categorical_accuracy: 0.6154 - val_loss: 1.2098 - val_categorical_accuracy: 0.6155\n",
            "Epoch 17/100\n",
            "12984/12984 [==============================] - 23s 2ms/step - loss: 1.2034 - categorical_accuracy: 0.6170 - val_loss: 1.2068 - val_categorical_accuracy: 0.6142\n",
            "Epoch 18/100\n",
            "12984/12984 [==============================] - 23s 2ms/step - loss: 1.1915 - categorical_accuracy: 0.6204 - val_loss: 1.1999 - val_categorical_accuracy: 0.6177\n",
            "Epoch 19/100\n",
            "12984/12984 [==============================] - 29s 2ms/step - loss: 1.1925 - categorical_accuracy: 0.6195 - val_loss: 1.1971 - val_categorical_accuracy: 0.6173\n",
            "Epoch 20/100\n",
            "12984/12984 [==============================] - 23s 2ms/step - loss: 1.1898 - categorical_accuracy: 0.6194 - val_loss: 1.1936 - val_categorical_accuracy: 0.6185\n",
            "Epoch 21/100\n",
            "12984/12984 [==============================] - 23s 2ms/step - loss: 1.1847 - categorical_accuracy: 0.6210 - val_loss: 1.1896 - val_categorical_accuracy: 0.6204\n",
            "Epoch 22/100\n",
            "12984/12984 [==============================] - 23s 2ms/step - loss: 1.1838 - categorical_accuracy: 0.6214 - val_loss: 1.1884 - val_categorical_accuracy: 0.6190\n",
            "Epoch 23/100\n",
            "12984/12984 [==============================] - 23s 2ms/step - loss: 1.1794 - categorical_accuracy: 0.6217 - val_loss: 1.1909 - val_categorical_accuracy: 0.6183\n",
            "Epoch 24/100\n",
            "12984/12984 [==============================] - 23s 2ms/step - loss: 1.1790 - categorical_accuracy: 0.6228 - val_loss: 1.1830 - val_categorical_accuracy: 0.6207\n",
            "Epoch 25/100\n",
            "12984/12984 [==============================] - 23s 2ms/step - loss: 1.1700 - categorical_accuracy: 0.6246 - val_loss: 1.1793 - val_categorical_accuracy: 0.6223\n",
            "Epoch 26/100\n",
            "12984/12984 [==============================] - 23s 2ms/step - loss: 1.1695 - categorical_accuracy: 0.6255 - val_loss: 1.1760 - val_categorical_accuracy: 0.6236\n",
            "Epoch 27/100\n",
            "12984/12984 [==============================] - 23s 2ms/step - loss: 1.1657 - categorical_accuracy: 0.6256 - val_loss: 1.1738 - val_categorical_accuracy: 0.6238\n",
            "Epoch 28/100\n",
            "12984/12984 [==============================] - 23s 2ms/step - loss: 1.1682 - categorical_accuracy: 0.6265 - val_loss: 1.1732 - val_categorical_accuracy: 0.6218\n",
            "Epoch 29/100\n",
            "12984/12984 [==============================] - 23s 2ms/step - loss: 1.1606 - categorical_accuracy: 0.6273 - val_loss: 1.1687 - val_categorical_accuracy: 0.6252\n",
            "Epoch 30/100\n",
            "12984/12984 [==============================] - 23s 2ms/step - loss: 1.1560 - categorical_accuracy: 0.6287 - val_loss: 1.1660 - val_categorical_accuracy: 0.6246\n",
            "Epoch 31/100\n",
            "12984/12984 [==============================] - 23s 2ms/step - loss: 1.1580 - categorical_accuracy: 0.6268 - val_loss: 1.1647 - val_categorical_accuracy: 0.6248\n",
            "Epoch 32/100\n",
            "12984/12984 [==============================] - 23s 2ms/step - loss: 1.1551 - categorical_accuracy: 0.6272 - val_loss: 1.1618 - val_categorical_accuracy: 0.6256\n",
            "Epoch 33/100\n",
            "12984/12984 [==============================] - 24s 2ms/step - loss: 1.1546 - categorical_accuracy: 0.6271 - val_loss: 1.1628 - val_categorical_accuracy: 0.6236\n",
            "Epoch 34/100\n",
            "12984/12984 [==============================] - 23s 2ms/step - loss: 1.1525 - categorical_accuracy: 0.6267 - val_loss: 1.1601 - val_categorical_accuracy: 0.6258\n",
            "Epoch 35/100\n",
            "12984/12984 [==============================] - 23s 2ms/step - loss: 1.1401 - categorical_accuracy: 0.6317 - val_loss: 1.1563 - val_categorical_accuracy: 0.6274\n",
            "Epoch 36/100\n",
            "12984/12984 [==============================] - 23s 2ms/step - loss: 1.1436 - categorical_accuracy: 0.6307 - val_loss: 1.1532 - val_categorical_accuracy: 0.6281\n",
            "Epoch 37/100\n",
            "12984/12984 [==============================] - 23s 2ms/step - loss: 1.1465 - categorical_accuracy: 0.6291 - val_loss: 1.1521 - val_categorical_accuracy: 0.6272\n",
            "Epoch 38/100\n",
            "12984/12984 [==============================] - 23s 2ms/step - loss: 1.1460 - categorical_accuracy: 0.6299 - val_loss: 1.1502 - val_categorical_accuracy: 0.6276\n",
            "Epoch 39/100\n",
            "12984/12984 [==============================] - 23s 2ms/step - loss: 1.1385 - categorical_accuracy: 0.6294 - val_loss: 1.1474 - val_categorical_accuracy: 0.6275\n",
            "Epoch 40/100\n",
            "12984/12984 [==============================] - 23s 2ms/step - loss: 1.1330 - categorical_accuracy: 0.6324 - val_loss: 1.1474 - val_categorical_accuracy: 0.6289\n",
            "Epoch 41/100\n",
            "12984/12984 [==============================] - 23s 2ms/step - loss: 1.1301 - categorical_accuracy: 0.6328 - val_loss: 1.1438 - val_categorical_accuracy: 0.6284\n",
            "Epoch 42/100\n",
            "12984/12984 [==============================] - 23s 2ms/step - loss: 1.1322 - categorical_accuracy: 0.6331 - val_loss: 1.1448 - val_categorical_accuracy: 0.6270\n",
            "Epoch 43/100\n",
            "12984/12984 [==============================] - 23s 2ms/step - loss: 1.1304 - categorical_accuracy: 0.6325 - val_loss: 1.1391 - val_categorical_accuracy: 0.6297\n",
            "Epoch 44/100\n",
            "12984/12984 [==============================] - 23s 2ms/step - loss: 1.1218 - categorical_accuracy: 0.6348 - val_loss: 1.1379 - val_categorical_accuracy: 0.6296\n",
            "Epoch 45/100\n",
            "12984/12984 [==============================] - 23s 2ms/step - loss: 1.1211 - categorical_accuracy: 0.6357 - val_loss: 1.1357 - val_categorical_accuracy: 0.6297\n",
            "Epoch 46/100\n",
            "12984/12984 [==============================] - 24s 2ms/step - loss: 1.1192 - categorical_accuracy: 0.6326 - val_loss: 1.1351 - val_categorical_accuracy: 0.6298\n",
            "Epoch 47/100\n",
            "12984/12984 [==============================] - 24s 2ms/step - loss: 1.1209 - categorical_accuracy: 0.6334 - val_loss: 1.1349 - val_categorical_accuracy: 0.6307\n",
            "Epoch 48/100\n",
            "12984/12984 [==============================] - 23s 2ms/step - loss: 1.1123 - categorical_accuracy: 0.6383 - val_loss: 1.1328 - val_categorical_accuracy: 0.6303\n",
            "Epoch 49/100\n",
            "12984/12984 [==============================] - 23s 2ms/step - loss: 1.1118 - categorical_accuracy: 0.6335 - val_loss: 1.1299 - val_categorical_accuracy: 0.6312\n",
            "Epoch 50/100\n",
            "12984/12984 [==============================] - 24s 2ms/step - loss: 1.1110 - categorical_accuracy: 0.6358 - val_loss: 1.1288 - val_categorical_accuracy: 0.6311\n",
            "Epoch 51/100\n",
            "12984/12984 [==============================] - 23s 2ms/step - loss: 1.1115 - categorical_accuracy: 0.6348 - val_loss: 1.1266 - val_categorical_accuracy: 0.6311\n",
            "Epoch 52/100\n",
            "12984/12984 [==============================] - 23s 2ms/step - loss: 1.1091 - categorical_accuracy: 0.6357 - val_loss: 1.1242 - val_categorical_accuracy: 0.6326\n",
            "Epoch 53/100\n",
            "12984/12984 [==============================] - 23s 2ms/step - loss: 1.1050 - categorical_accuracy: 0.6366 - val_loss: 1.1223 - val_categorical_accuracy: 0.6324\n",
            "Epoch 54/100\n",
            "12984/12984 [==============================] - 24s 2ms/step - loss: 1.1040 - categorical_accuracy: 0.6371 - val_loss: 1.1219 - val_categorical_accuracy: 0.6326\n",
            "Epoch 55/100\n",
            "12984/12984 [==============================] - 24s 2ms/step - loss: 1.1027 - categorical_accuracy: 0.6384 - val_loss: 1.1201 - val_categorical_accuracy: 0.6336\n",
            "Epoch 56/100\n",
            "12984/12984 [==============================] - 23s 2ms/step - loss: 1.1031 - categorical_accuracy: 0.6369 - val_loss: 1.1197 - val_categorical_accuracy: 0.6323\n",
            "Epoch 57/100\n",
            "12984/12984 [==============================] - 24s 2ms/step - loss: 1.1010 - categorical_accuracy: 0.6351 - val_loss: 1.1181 - val_categorical_accuracy: 0.6322\n",
            "Epoch 58/100\n",
            "12984/12984 [==============================] - 23s 2ms/step - loss: 1.0960 - categorical_accuracy: 0.6408 - val_loss: 1.1168 - val_categorical_accuracy: 0.6326\n",
            "Epoch 59/100\n",
            "12984/12984 [==============================] - 23s 2ms/step - loss: 1.0979 - categorical_accuracy: 0.6368 - val_loss: 1.1166 - val_categorical_accuracy: 0.6322\n",
            "Epoch 60/100\n",
            "12984/12984 [==============================] - 29s 2ms/step - loss: 1.0943 - categorical_accuracy: 0.6389 - val_loss: 1.1155 - val_categorical_accuracy: 0.6318\n",
            "Epoch 61/100\n",
            "12984/12984 [==============================] - 23s 2ms/step - loss: 1.0998 - categorical_accuracy: 0.6365 - val_loss: 1.1141 - val_categorical_accuracy: 0.6340\n",
            "Epoch 62/100\n",
            "12984/12984 [==============================] - 23s 2ms/step - loss: 1.0873 - categorical_accuracy: 0.6394 - val_loss: 1.1112 - val_categorical_accuracy: 0.6330\n",
            "Epoch 63/100\n",
            "12984/12984 [==============================] - 23s 2ms/step - loss: 1.0881 - categorical_accuracy: 0.6409 - val_loss: 1.1104 - val_categorical_accuracy: 0.6330\n",
            "Epoch 64/100\n",
            "12984/12984 [==============================] - 23s 2ms/step - loss: 1.0890 - categorical_accuracy: 0.6418 - val_loss: 1.1106 - val_categorical_accuracy: 0.6346\n",
            "Epoch 65/100\n",
            "12984/12984 [==============================] - 23s 2ms/step - loss: 1.0915 - categorical_accuracy: 0.6379 - val_loss: 1.1095 - val_categorical_accuracy: 0.6349\n",
            "Epoch 66/100\n",
            "12984/12984 [==============================] - 24s 2ms/step - loss: 1.0935 - categorical_accuracy: 0.6374 - val_loss: 1.1109 - val_categorical_accuracy: 0.6338\n",
            "Epoch 67/100\n",
            "12984/12984 [==============================] - 24s 2ms/step - loss: 1.0865 - categorical_accuracy: 0.6401 - val_loss: 1.1065 - val_categorical_accuracy: 0.6337\n",
            "Epoch 68/100\n",
            "12984/12984 [==============================] - 24s 2ms/step - loss: 1.0850 - categorical_accuracy: 0.6391 - val_loss: 1.1081 - val_categorical_accuracy: 0.6329\n",
            "Epoch 69/100\n",
            "12984/12984 [==============================] - 23s 2ms/step - loss: 1.0801 - categorical_accuracy: 0.6394 - val_loss: 1.1032 - val_categorical_accuracy: 0.6353\n",
            "Epoch 70/100\n",
            "12984/12984 [==============================] - 24s 2ms/step - loss: 1.0854 - categorical_accuracy: 0.6408 - val_loss: 1.1057 - val_categorical_accuracy: 0.6346\n",
            "Epoch 71/100\n",
            "12984/12984 [==============================] - 23s 2ms/step - loss: 1.0803 - categorical_accuracy: 0.6401 - val_loss: 1.1026 - val_categorical_accuracy: 0.6346\n",
            "Epoch 72/100\n",
            "12984/12984 [==============================] - 23s 2ms/step - loss: 1.0777 - categorical_accuracy: 0.6410 - val_loss: 1.1010 - val_categorical_accuracy: 0.6362\n",
            "Epoch 73/100\n",
            "12984/12984 [==============================] - 24s 2ms/step - loss: 1.0778 - categorical_accuracy: 0.6404 - val_loss: 1.1008 - val_categorical_accuracy: 0.6355\n",
            "Epoch 74/100\n",
            "12984/12984 [==============================] - 25s 2ms/step - loss: 1.0804 - categorical_accuracy: 0.6401 - val_loss: 1.1005 - val_categorical_accuracy: 0.6363\n",
            "Epoch 75/100\n",
            "12984/12984 [==============================] - 24s 2ms/step - loss: 1.0779 - categorical_accuracy: 0.6427 - val_loss: 1.0982 - val_categorical_accuracy: 0.6367\n",
            "Epoch 76/100\n",
            "12984/12984 [==============================] - 24s 2ms/step - loss: 1.0718 - categorical_accuracy: 0.6437 - val_loss: 1.0981 - val_categorical_accuracy: 0.6366\n",
            "Epoch 77/100\n",
            "12984/12984 [==============================] - 23s 2ms/step - loss: 1.0665 - categorical_accuracy: 0.6435 - val_loss: 1.0964 - val_categorical_accuracy: 0.6365\n",
            "Epoch 78/100\n",
            "12984/12984 [==============================] - 23s 2ms/step - loss: 1.0710 - categorical_accuracy: 0.6433 - val_loss: 1.0974 - val_categorical_accuracy: 0.6361\n",
            "Epoch 79/100\n",
            "12984/12984 [==============================] - 24s 2ms/step - loss: 1.0710 - categorical_accuracy: 0.6414 - val_loss: 1.0950 - val_categorical_accuracy: 0.6369\n",
            "Epoch 80/100\n",
            "12984/12984 [==============================] - 24s 2ms/step - loss: 1.0668 - categorical_accuracy: 0.6439 - val_loss: 1.0947 - val_categorical_accuracy: 0.6367\n",
            "Epoch 81/100\n",
            "12984/12984 [==============================] - 24s 2ms/step - loss: 1.0722 - categorical_accuracy: 0.6422 - val_loss: 1.0940 - val_categorical_accuracy: 0.6370\n",
            "Epoch 82/100\n",
            "12984/12984 [==============================] - 24s 2ms/step - loss: 1.0667 - categorical_accuracy: 0.6426 - val_loss: 1.0938 - val_categorical_accuracy: 0.6371\n",
            "Epoch 83/100\n",
            "12984/12984 [==============================] - 24s 2ms/step - loss: 1.0595 - categorical_accuracy: 0.6462 - val_loss: 1.0925 - val_categorical_accuracy: 0.6375\n",
            "Epoch 84/100\n",
            "12984/12984 [==============================] - 24s 2ms/step - loss: 1.0615 - categorical_accuracy: 0.6461 - val_loss: 1.0936 - val_categorical_accuracy: 0.6374\n",
            "Epoch 85/100\n",
            "12984/12984 [==============================] - 24s 2ms/step - loss: 1.0669 - categorical_accuracy: 0.6434 - val_loss: 1.0954 - val_categorical_accuracy: 0.6352\n",
            "Epoch 86/100\n",
            "12984/12984 [==============================] - 24s 2ms/step - loss: 1.0620 - categorical_accuracy: 0.6442 - val_loss: 1.0915 - val_categorical_accuracy: 0.6379\n",
            "Epoch 87/100\n",
            "12984/12984 [==============================] - 29s 2ms/step - loss: 1.0567 - categorical_accuracy: 0.6458 - val_loss: 1.0914 - val_categorical_accuracy: 0.6376\n",
            "Epoch 88/100\n",
            "12984/12984 [==============================] - 24s 2ms/step - loss: 1.0643 - categorical_accuracy: 0.6440 - val_loss: 1.0901 - val_categorical_accuracy: 0.6381\n",
            "Epoch 89/100\n",
            "12984/12984 [==============================] - 24s 2ms/step - loss: 1.0614 - categorical_accuracy: 0.6437 - val_loss: 1.0896 - val_categorical_accuracy: 0.6381\n",
            "Epoch 90/100\n",
            "12984/12984 [==============================] - 24s 2ms/step - loss: 1.0594 - categorical_accuracy: 0.6448 - val_loss: 1.0911 - val_categorical_accuracy: 0.6377\n",
            "Epoch 91/100\n",
            "12984/12984 [==============================] - 24s 2ms/step - loss: 1.0583 - categorical_accuracy: 0.6455 - val_loss: 1.0902 - val_categorical_accuracy: 0.6385\n",
            "Epoch 92/100\n",
            "12984/12984 [==============================] - 24s 2ms/step - loss: 1.0594 - categorical_accuracy: 0.6448 - val_loss: 1.0895 - val_categorical_accuracy: 0.6379\n",
            "Epoch 93/100\n",
            "12984/12984 [==============================] - 24s 2ms/step - loss: 1.0525 - categorical_accuracy: 0.6448 - val_loss: 1.0878 - val_categorical_accuracy: 0.6386\n",
            "Epoch 94/100\n",
            "12984/12984 [==============================] - 24s 2ms/step - loss: 1.0568 - categorical_accuracy: 0.6467 - val_loss: 1.0887 - val_categorical_accuracy: 0.6375\n",
            "Epoch 95/100\n",
            "12984/12984 [==============================] - 24s 2ms/step - loss: 1.0517 - categorical_accuracy: 0.6479 - val_loss: 1.0878 - val_categorical_accuracy: 0.6381\n",
            "Epoch 96/100\n",
            "12984/12984 [==============================] - 24s 2ms/step - loss: 1.0574 - categorical_accuracy: 0.6465 - val_loss: 1.0862 - val_categorical_accuracy: 0.6388\n",
            "Epoch 97/100\n",
            "12984/12984 [==============================] - 23s 2ms/step - loss: 1.0555 - categorical_accuracy: 0.6471 - val_loss: 1.0865 - val_categorical_accuracy: 0.6390\n",
            "Epoch 98/100\n",
            "12984/12984 [==============================] - 23s 2ms/step - loss: 1.0515 - categorical_accuracy: 0.6473 - val_loss: 1.0854 - val_categorical_accuracy: 0.6385\n",
            "Epoch 99/100\n",
            "12984/12984 [==============================] - 23s 2ms/step - loss: 1.0512 - categorical_accuracy: 0.6469 - val_loss: 1.0896 - val_categorical_accuracy: 0.6376\n",
            "Epoch 100/100\n",
            "12984/12984 [==============================] - 23s 2ms/step - loss: 1.0538 - categorical_accuracy: 0.6474 - val_loss: 1.0854 - val_categorical_accuracy: 0.6384\n"
          ],
          "name": "stdout"
        }
      ]
    },
    {
      "cell_type": "code",
      "metadata": {
        "colab": {
          "base_uri": "https://localhost:8080/"
        },
        "id": "BLyR8ktQdsS7",
        "outputId": "e9857e0b-3904-4179-dd24-d8722547f2c1"
      },
      "source": [
        "#22\n",
        "_, accuracy = model2.evaluate(testing_padded, testing_labels_en, verbose=1)\n",
        "print(accuracy)"
      ],
      "execution_count": null,
      "outputs": [
        {
          "output_type": "stream",
          "text": [
            "1023/1023 [==============================] - 1s 1ms/step - loss: 1.2800 - categorical_accuracy: 0.6006\n",
            "0.6005743741989136\n"
          ],
          "name": "stdout"
        }
      ]
    },
    {
      "cell_type": "code",
      "metadata": {
        "colab": {
          "base_uri": "https://localhost:8080/",
          "height": 295
        },
        "id": "3wxDookvdsS7",
        "outputId": "ce876865-7b02-47f4-f780-1e63bdbe9ad6"
      },
      "source": [
        "# summarize history for loss\n",
        "plt.plot(H2.history['loss'])\n",
        "plt.plot(H2.history['val_loss'])\n",
        "plt.title('model loss')\n",
        "plt.ylabel('loss')\n",
        "plt.xlabel('epoch')\n",
        "plt.legend(['train', 'val'], loc='upper left')\n",
        "plt.show()"
      ],
      "execution_count": null,
      "outputs": [
        {
          "output_type": "display_data",
          "data": {
            "image/png": "[encoded data removed]",
            "text/plain": [
              "<Figure size 432x288 with 1 Axes>"
            ]
          },
          "metadata": {
            "tags": [],
            "needs_background": "light"
          }
        }
      ]
    },
    {
      "cell_type": "code",
      "metadata": {
        "colab": {
          "base_uri": "https://localhost:8080/",
          "height": 295
        },
        "id": "8-KG9EJAdsS8",
        "outputId": "5e48a5fe-af0f-41ec-e146-c1f467484553"
      },
      "source": [
        "# summarize history for accuracy\n",
        "plt.plot(H2.history['categorical_accuracy'])\n",
        "plt.plot(H2.history['val_categorical_accuracy'])\n",
        "plt.title('model accuracy')\n",
        "plt.ylabel('accuracy')\n",
        "plt.xlabel('epoch')\n",
        "plt.legend(['train', 'val'], loc='lower right')\n",
        "plt.show()"
      ],
      "execution_count": null,
      "outputs": [
        {
          "output_type": "display_data",
          "data": {
            "image/png": "[encoded data removed]",
            "text/plain": [
              "<Figure size 432x288 with 1 Axes>"
            ]
          },
          "metadata": {
            "tags": [],
            "needs_background": "light"
          }
        }
      ]
    },
    {
      "cell_type": "code",
      "metadata": {
        "colab": {
          "base_uri": "https://localhost:8080/"
        },
        "id": "krm-LdQe4Lco",
        "outputId": "9b3b8303-0467-4964-a389-28e979f3c3ef"
      },
      "source": [
        "y_pred = model2.predict(testing_padded)\n",
        "y_pred = np.argmax(y_pred, axis=1)\n",
        "\n",
        "from sklearn.metrics import f1_score, precision_score, recall_score, confusion_matrix, accuracy_score\n",
        "# Print f1, precision, and recall scores\n",
        "print(\"Accuracy:\",accuracy_score(testing_labels, y_pred))\n",
        "print(\"Precision:\",precision_score(testing_labels, y_pred , average=\"macro\"))\n",
        "print(\"Recall:\",recall_score(testing_labels, y_pred , average=\"macro\"))\n",
        "print(\"F1-score:\",f1_score(testing_labels, y_pred , average=\"macro\"))"
      ],
      "execution_count": null,
      "outputs": [
        {
          "output_type": "stream",
          "text": [
            "Accuracy: 0.6005743614811194\n",
            "Precision: 0.42290626191975456\n",
            "Recall: 0.3035838750179441\n",
            "F1-score: 0.3194942731782204\n"
          ],
          "name": "stdout"
        }
      ]
    },
    {
      "cell_type": "code",
      "metadata": {
        "id": "CRcDNuFmIN-o",
        "colab": {
          "base_uri": "https://localhost:8080/"
        },
        "outputId": "abc88cf2-ee52-42fa-cc7c-30a05528766e"
      },
      "source": [
        "from sklearn.metrics import classification_report\n",
        "print(classification_report(y_test, y_pred))"
      ],
      "execution_count": null,
      "outputs": [
        {
          "output_type": "stream",
          "text": [
            "              precision    recall  f1-score   support\n",
            "\n",
            "           0       0.49      0.35      0.41      5162\n",
            "           1       0.79      0.79      0.79      3371\n",
            "           2       0.62      0.80      0.70     15126\n",
            "           3       0.60      0.62      0.61      3186\n",
            "           4       0.13      0.02      0.03       547\n",
            "           5       0.45      0.35      0.39      2062\n",
            "           6       0.39      0.24      0.29      1070\n",
            "           7       0.20      0.06      0.09       943\n",
            "           8       0.35      0.06      0.10       278\n",
            "           9       0.55      0.04      0.07       526\n",
            "          10       0.08      0.01      0.01       461\n",
            "\n",
            "    accuracy                           0.60     32732\n",
            "   macro avg       0.42      0.30      0.32     32732\n",
            "weighted avg       0.56      0.60      0.57     32732\n",
            "\n"
          ],
          "name": "stdout"
        }
      ]
    },
    {
      "cell_type": "code",
      "metadata": {
        "id": "PiqU7VrMqnTE",
        "colab": {
          "base_uri": "https://localhost:8080/"
        },
        "outputId": "e229383e-3e57-4ec5-a8e4-26aa13680e30"
      },
      "source": [
        "genre_code"
      ],
      "execution_count": null,
      "outputs": [
        {
          "output_type": "execute_result",
          "data": {
            "text/plain": [
              "{'Country': 6,\n",
              " 'Electronic': 10,\n",
              " 'Folk': 7,\n",
              " 'Hip-Hop': 1,\n",
              " 'Indie': 3,\n",
              " 'Jazz': 8,\n",
              " 'Metal': 4,\n",
              " 'Other': 5,\n",
              " 'Pop': 0,\n",
              " 'R&B': 9,\n",
              " 'Rock': 2}"
            ]
          },
          "metadata": {
            "tags": []
          },
          "execution_count": 23
        }
      ]
    }
  ]
}